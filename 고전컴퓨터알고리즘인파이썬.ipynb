{
  "nbformat": 4,
  "nbformat_minor": 0,
  "metadata": {
    "colab": {
      "provenance": [],
      "authorship_tag": "ABX9TyPL8KA+H2/Qg8me+IntGbe8",
      "include_colab_link": true
    },
    "kernelspec": {
      "name": "python3",
      "display_name": "Python 3"
    },
    "language_info": {
      "name": "python"
    }
  },
  "cells": [
    {
      "cell_type": "markdown",
      "metadata": {
        "id": "view-in-github",
        "colab_type": "text"
      },
      "source": [
        "<a href=\"https://colab.research.google.com/github/YuseokYang/Study-Everyday/blob/main/%EA%B3%A0%EC%A0%84%EC%BB%B4%ED%93%A8%ED%84%B0%EC%95%8C%EA%B3%A0%EB%A6%AC%EC%A6%98%EC%9D%B8%ED%8C%8C%EC%9D%B4%EC%8D%AC.ipynb\" target=\"_parent\"><img src=\"https://colab.research.google.com/assets/colab-badge.svg\" alt=\"Open In Colab\"/></a>"
      ]
    },
    {
      "cell_type": "code",
      "source": [
        "from typing import Dict\n",
        "memo: Dict[int, int] = {0:0, 1:1}\n",
        "\n",
        "def fib3(n):\n",
        "  if n not in memo:\n",
        "    memo[n] = fib3(n-1) + fib3(n-2)\n",
        "  return memo[n]"
      ],
      "metadata": {
        "colab": {
          "base_uri": "https://localhost:8080/"
        },
        "id": "FBldLnC9zWcy",
        "outputId": "9dc0cd61-4fb3-40cf-9684-732961e5b7a9"
      },
      "execution_count": null,
      "outputs": [
        {
          "output_type": "execute_result",
          "data": {
            "text/plain": [
              "12586269025"
            ]
          },
          "metadata": {},
          "execution_count": 2
        }
      ]
    },
    {
      "cell_type": "code",
      "source": [
        "from functools import cache\n",
        "\n",
        "@cache\n",
        "def fib(n: int) -> int:\n",
        "  if n < 2:\n",
        "    return n\n",
        "  return fib(n-1) + fib(n-2)\n",
        "fib(50)"
      ],
      "metadata": {
        "colab": {
          "base_uri": "https://localhost:8080/"
        },
        "id": "N62Df-fXz2Qi",
        "outputId": "bf47eda8-31b9-4597-f883-de4d74d621c2"
      },
      "execution_count": null,
      "outputs": [
        {
          "output_type": "execute_result",
          "data": {
            "text/plain": [
              "12586269025"
            ]
          },
          "metadata": {},
          "execution_count": 6
        }
      ]
    },
    {
      "cell_type": "code",
      "source": [
        "from functools import cache\n",
        "\n",
        "@cache\n",
        "def slow_function(n):\n",
        "  print(f'Computing {n}.......')\n",
        "  return n*n\n",
        "\n",
        "print(slow_function(5))\n",
        "print(slow_function(5))\n",
        "print(slow_function(6))\n",
        "\n",
        "print(slow_function(7))\n",
        "print(slow_function(8))\n",
        "print(slow_function(9))\n",
        "\n",
        "print(slow_function(5))\n",
        "print(slow_function(5))\n",
        "print(slow_function(6))\n"
      ],
      "metadata": {
        "colab": {
          "base_uri": "https://localhost:8080/"
        },
        "id": "-mR9mBqn1G1F",
        "outputId": "c0eafacb-ff36-4bf7-ffa5-14beade3ad7f"
      },
      "execution_count": null,
      "outputs": [
        {
          "output_type": "stream",
          "name": "stdout",
          "text": [
            "Computing 5.......\n",
            "25\n",
            "25\n",
            "Computing 6.......\n",
            "36\n",
            "Computing 7.......\n",
            "49\n",
            "Computing 8.......\n",
            "64\n",
            "Computing 9.......\n",
            "81\n",
            "25\n",
            "25\n",
            "36\n"
          ]
        }
      ]
    },
    {
      "cell_type": "code",
      "source": [
        "def fib5(n: int) -> int:\n",
        "  if n == 0: return n\n",
        "  last: int = 0\n",
        "  next: int = 1\n",
        "  for _ in range(1, n):\n",
        "    last, next = next, last + next\n",
        "  return next\n",
        "\n",
        "fib5(50)"
      ],
      "metadata": {
        "colab": {
          "base_uri": "https://localhost:8080/"
        },
        "id": "dcvCdQcQ2w0n",
        "outputId": "519c324f-1cda-49ad-cee0-4d66a5a39c95"
      },
      "execution_count": null,
      "outputs": [
        {
          "output_type": "execute_result",
          "data": {
            "text/plain": [
              "12586269025"
            ]
          },
          "metadata": {},
          "execution_count": 8
        }
      ]
    },
    {
      "cell_type": "code",
      "source": [
        "from typing import Dict\n",
        "memo: Dict[int, int] = {0:0, 1:1}\n",
        "\n",
        "def fib7(n: int) -> int:\n",
        "  if n not in memo:\n",
        "    memo[n] = fib7(n-1) + fib7(n-2)\n",
        "  return memo[n]\n",
        "\n",
        "fib7(30)"
      ],
      "metadata": {
        "colab": {
          "base_uri": "https://localhost:8080/"
        },
        "id": "PgJX4TCw3ct4",
        "outputId": "22346135-bdcd-415a-c341-69eb630ecdda"
      },
      "execution_count": null,
      "outputs": [
        {
          "output_type": "execute_result",
          "data": {
            "text/plain": [
              "832040"
            ]
          },
          "metadata": {},
          "execution_count": 3
        }
      ]
    },
    {
      "cell_type": "code",
      "source": [
        "from functools import cache\n",
        "\n",
        "@cache\n",
        "def fib8(n: int) -> int:\n",
        "  if n < 2: return n\n",
        "  return fib8(n-1) + fib8(n-2)\n",
        "\n",
        "fib8(30)"
      ],
      "metadata": {
        "colab": {
          "base_uri": "https://localhost:8080/"
        },
        "id": "Rqs0bb6j39Om",
        "outputId": "fcb90574-5f19-402e-b6d1-005aee80d7cf"
      },
      "execution_count": null,
      "outputs": [
        {
          "output_type": "execute_result",
          "data": {
            "text/plain": [
              "832040"
            ]
          },
          "metadata": {},
          "execution_count": 4
        }
      ]
    },
    {
      "cell_type": "code",
      "source": [
        "from typing import Generator\n",
        "\n",
        "def fib8(n: int) -> Generator[int, None, None]:\n",
        "  yield 0\n",
        "  if n > 0: yield 1\n",
        "\n",
        "  last: int = 0\n",
        "  next: int = 1\n",
        "  for _ in range(1, n):\n",
        "    last, next = next, last + next\n",
        "    yield next\n",
        "\n",
        "for i in fib8(30):\n",
        "  print(i)"
      ],
      "metadata": {
        "colab": {
          "base_uri": "https://localhost:8080/"
        },
        "id": "F6U7EnkEglzA",
        "outputId": "103b343e-6f28-4e74-a383-c06a62e8bdd5"
      },
      "execution_count": null,
      "outputs": [
        {
          "output_type": "stream",
          "name": "stdout",
          "text": [
            "0\n",
            "1\n",
            "1\n",
            "2\n",
            "3\n",
            "5\n",
            "8\n",
            "13\n",
            "21\n",
            "34\n",
            "55\n",
            "89\n",
            "144\n",
            "233\n",
            "377\n",
            "610\n",
            "987\n",
            "1597\n",
            "2584\n",
            "4181\n",
            "6765\n",
            "10946\n",
            "17711\n",
            "28657\n",
            "46368\n",
            "75025\n",
            "121393\n",
            "196418\n",
            "317811\n",
            "514229\n",
            "832040\n"
          ]
        }
      ]
    },
    {
      "cell_type": "code",
      "source": [],
      "metadata": {
        "id": "5lCOeK5HhQqz"
      },
      "execution_count": null,
      "outputs": []
    },
    {
      "cell_type": "code",
      "source": [
        "class CompressedGene:\n",
        "    def __init__(self, gene: str) -> None:\n",
        "        self._compress(gene)\n",
        "\n",
        "    def _compress(self, gene: str) -> None:\n",
        "        self.bit_string: int = 1  # start with sentinel\n",
        "        for nucleotide in gene.upper():\n",
        "            self.bit_string <<= 2  # shift left two bits\n",
        "            if nucleotide == \"A\":  # change last two bits to 00\n",
        "                self.bit_string |= 0b00\n",
        "            elif nucleotide == \"C\":  # change last two bits to 01\n",
        "                self.bit_string |= 0b01\n",
        "            elif nucleotide == \"G\":  # change last two bits to 10\n",
        "                self.bit_string |= 0b10\n",
        "            elif nucleotide == \"T\":  # change last two bits to 11\n",
        "                self.bit_string |= 0b11\n",
        "            else:\n",
        "                raise ValueError(\"Invalid Nucleotide:{}\".format(nucleotide))\n",
        "\n",
        "    def decompress(self) -> str:\n",
        "        gene: str = \"\"\n",
        "        for i in range(0, self.bit_string.bit_length() - 1, 2):  # - 1 to exclude sentinel\n",
        "            print(i)\n",
        "            bits: int = self.bit_string >> i & 0b11  # get just 2 relevant bits\n",
        "            if bits == 0b00:  # A\n",
        "                gene += \"A\"\n",
        "            elif bits == 0b01:  # C\n",
        "                gene += \"C\"\n",
        "            elif bits == 0b10:  # G\n",
        "                gene += \"G\"\n",
        "            elif bits == 0b11:  # T\n",
        "                gene += \"T\"\n",
        "            else:\n",
        "                raise ValueError(\"Invalid bits:{}\".format(bits))\n",
        "        return gene[::-1]  # [::-1] reverses string by slicing backwards\n",
        "\n",
        "    def __str__(self) -> str:  # string representation for pretty printing\n",
        "        return self.decompress()\n",
        "\n",
        "\n",
        "if __name__ == \"__main__\":\n",
        "    from sys import getsizeof\n",
        "    original: str = \"TAGGGATTAACCGTTATATATATATAGCCATGGATCGATTATATAGGGATTAACCGTTATATATATATAGCCATGGATCGATTATA\"\n",
        "    print(\"original is {} bytes\".format(getsizeof(original)))\n",
        "    compressed: CompressedGene = CompressedGene(original)  # compress\n",
        "    print(\"compressed is {} bytes\".format(getsizeof(compressed.bit_string)))\n",
        "    print(compressed)  # decompress\n",
        "    print(\"original and decompressed are the same: {}\".format(original == compressed.decompress()))"
      ],
      "metadata": {
        "colab": {
          "base_uri": "https://localhost:8080/"
        },
        "id": "OXToc3NOi7QR",
        "outputId": "b5c5cb0c-0607-4b63-8b5d-e71769c9c8ea"
      },
      "execution_count": null,
      "outputs": [
        {
          "output_type": "stream",
          "name": "stdout",
          "text": [
            "original is 53 bytes\n",
            "compressed is 28 bytes\n",
            "0\n",
            "2\n",
            "4\n",
            "6\n",
            "8\n",
            "CTAGG\n",
            "0\n",
            "2\n",
            "4\n",
            "6\n",
            "8\n",
            "original and decompressed are the same: False\n"
          ]
        }
      ]
    },
    {
      "cell_type": "code",
      "source": [
        "class CompressedGene:\n",
        "  def __init__(self, gene: str) -> None:\n",
        "    self._compress(gene)\n",
        "\n",
        "  def _compress(self, gene: str) -> None:\n",
        "    self.bit_string: int = 1\n",
        "    for nucleotide in gene.upper():\n",
        "      self.bit_string <<= 2\n",
        "      if nucleotide == 'A':\n",
        "        self.bit_string |= 0b00\n",
        "      elif nucleotide == 'C':\n",
        "        self.bit_string |= 0b01\n",
        "      elif nucleotide == 'G':\n",
        "        self.bit_string |= 0b10\n",
        "      elif nucleotide == 'T':\n",
        "        self.bit_string |= 0b11\n",
        "      else:\n",
        "        raise ValueError(f'Invalid Nucleotide: {nucleotide}')\n",
        "\n",
        "  def decompress(self) -> str:\n",
        "    gene: str = ''\n",
        "    for i in range(0, self.bit_string.bit_length() - 1, 2):\n",
        "      bits: int = self.bit_string >> i & 0b11\n",
        "      if bits == 0b00:\n",
        "        gene += 'A'\n",
        "      elif bits == 0b01:\n",
        "        gene += 'C'\n",
        "      elif bits == 0b10:\n",
        "        gene += 'G'\n",
        "      elif bits == 0b11:\n",
        "        gene += 'T'\n",
        "      else:\n",
        "        raise ValueError(f'Invalid bits: {bits}')\n",
        "    return gene[::-1]\n",
        "\n",
        "  def __str__(self) -> str:\n",
        "    return self.decompress()\n",
        "\n",
        "if __name__ == '__main__':\n",
        "  from sys import getsizeof\n",
        "  original: str = 'TAGGGATTAACCGTTATATATATATAGCCATGGATCGATTATATAGGGATTAACCGTTATATATATATAGCCATGGATCGATTATA'\n",
        "  print(f'original is {getsizeof(original)}')\n",
        "  compressed: CompressedGene = CompressedGene(original)\n",
        "  print(f'compressed is {getsizeof(compressed.bit_string)}')\n",
        "  print(compressed)\n",
        "  print(f'original and decompressed are the same: {original == compressed.decompress()}')"
      ],
      "metadata": {
        "colab": {
          "base_uri": "https://localhost:8080/"
        },
        "id": "Rtzrq2gNlQ7W",
        "outputId": "eaf5bba0-d5ec-4802-ea9b-554a62eb6f34"
      },
      "execution_count": null,
      "outputs": [
        {
          "output_type": "stream",
          "name": "stdout",
          "text": [
            "original is 135\n",
            "compressed is 48\n",
            "TAGGGATTAACCGTTATATATATATAGCCATGGATCGATTATATAGGGATTAACCGTTATATATATATAGCCATGGATCGATTATA\n",
            "original and decompressed are the same: True\n"
          ]
        }
      ]
    },
    {
      "cell_type": "code",
      "source": [
        "from sys import getsizeof\n",
        "original: str = 'TAGGGATTAACCGTTATATATATATAGCCATGGATCGATTATATAGGGATTAACCGTTATATATATATAGCCATGGATCGATTATA'\n",
        "print(f'original is {getsizeof(original)}')\n",
        "compressed: CompressedGene = CompressedGene(original)\n",
        "print(f'compressed is {getsizeof(compressed.bit_string)}')\n",
        "print(f'decompressed: {compressed}')\n",
        "print(f'original and decompressed are the same: {original == compressed.decompress()}')"
      ],
      "metadata": {
        "colab": {
          "base_uri": "https://localhost:8080/"
        },
        "id": "bpj5ARmflw8c",
        "outputId": "75382966-8894-4d3c-8455-185efe592591"
      },
      "execution_count": null,
      "outputs": [
        {
          "output_type": "stream",
          "name": "stdout",
          "text": [
            "original is 135\n",
            "compressed is 48\n",
            "decompressed: TAGGGATTAACCGTTATATATATATAGCCATGGATCGATTATATAGGGATTAACCGTTATATATATATAGCCATGGATCGATTATA\n",
            "original and decompressed are the same: True\n"
          ]
        }
      ]
    },
    {
      "cell_type": "code",
      "source": [
        "for i in range(0,8,2):\n",
        "  print(i)"
      ],
      "metadata": {
        "colab": {
          "base_uri": "https://localhost:8080/"
        },
        "id": "Q2OUqlLF3w42",
        "outputId": "338d48a6-88d9-43e6-86ec-dc5f9773e8a5"
      },
      "execution_count": null,
      "outputs": [
        {
          "output_type": "stream",
          "name": "stdout",
          "text": [
            "0\n",
            "2\n",
            "4\n",
            "6\n"
          ]
        }
      ]
    },
    {
      "cell_type": "code",
      "source": [],
      "metadata": {
        "id": "peWH1u5X4avf"
      },
      "execution_count": null,
      "outputs": []
    }
  ]
}