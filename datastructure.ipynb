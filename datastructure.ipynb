{
  "nbformat": 4,
  "nbformat_minor": 0,
  "metadata": {
    "colab": {
      "provenance": [],
      "authorship_tag": "ABX9TyPEUprswzk33ZqHAaz7ydxf",
      "include_colab_link": true
    },
    "kernelspec": {
      "name": "python3",
      "display_name": "Python 3"
    },
    "language_info": {
      "name": "python"
    }
  },
  "cells": [
    {
      "cell_type": "markdown",
      "metadata": {
        "id": "view-in-github",
        "colab_type": "text"
      },
      "source": [
        "<a href=\"https://colab.research.google.com/github/YuseokYang/Study-Everyday/blob/main/datastructure.ipynb\" target=\"_parent\"><img src=\"https://colab.research.google.com/assets/colab-badge.svg\" alt=\"Open In Colab\"/></a>"
      ]
    },
    {
      "cell_type": "code",
      "execution_count": null,
      "metadata": {
        "id": "g1Oo9ue5WGlX"
      },
      "outputs": [],
      "source": [
        "#이진 탐색\n",
        "def binary_search(a_list, n):\n",
        "  first = 0\n",
        "  last = len(a_list) - 1\n",
        "  while first <= last:\n",
        "    mid = (first + last) // 2\n",
        "    if a_list[mid] == n:\n",
        "      return True\n",
        "    else:\n",
        "      if n < a_list[mid]:\n",
        "        last = mid - 1\n",
        "      else:\n",
        "        first = mid + 1\n",
        "  return False"
      ]
    },
    {
      "cell_type": "code",
      "source": [
        "#merge_sort\n",
        "def merge_sort(n_list):\n",
        "\n",
        "  if len(n_list) <= 1:\n",
        "    return n_list\n",
        "  mid = len(n_list) // 2\n",
        "  left = merge_sort(n_list[:mid])\n",
        "  right = merge_sort(n_list[mid:])\n",
        "  return merge(left, right)\n",
        "\n",
        "def merge(left, right):\n",
        "  result = []\n",
        "  left_idx = right_idx = 0\n",
        "  while left_idx < len(left) and right_idx < len(right):\n",
        "    if left[left_idx] < right[right_idx]:\n",
        "      result.append(left[left_idx])\n",
        "      left_idx += 1\n",
        "    else:\n",
        "      result.append(right[right_idx])\n",
        "      right_idx += 1\n",
        "  result += left[left_idx:]\n",
        "  result += right[right_idx:]\n",
        "  return result\n",
        "\n",
        "print(merge_sort([10,9,8,4,7,6,5,1,2,3]))"
      ],
      "metadata": {
        "colab": {
          "base_uri": "https://localhost:8080/"
        },
        "id": "CMkYZmmmYQGl",
        "outputId": "7e440c46-87ae-4d95-8dd8-8d0db46a586e"
      },
      "execution_count": 5,
      "outputs": [
        {
          "output_type": "stream",
          "name": "stdout",
          "text": [
            "[1, 2, 3, 4, 5, 6, 7, 8, 9, 10]\n"
          ]
        }
      ]
    },
    {
      "cell_type": "code",
      "source": [
        "\n"
      ],
      "metadata": {
        "id": "7QtIy42FgNqo"
      },
      "execution_count": 2,
      "outputs": []
    },
    {
      "cell_type": "code",
      "source": [],
      "metadata": {
        "id": "31cE5hpcgP1O"
      },
      "execution_count": 2,
      "outputs": []
    },
    {
      "cell_type": "code",
      "source": [],
      "metadata": {
        "id": "Viszgh5UvRDY"
      },
      "execution_count": 2,
      "outputs": []
    },
    {
      "cell_type": "code",
      "source": [],
      "metadata": {
        "id": "UGSl0VWNvVHZ"
      },
      "execution_count": null,
      "outputs": []
    }
  ]
}